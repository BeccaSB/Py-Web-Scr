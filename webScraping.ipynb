{
 "cells": [
  {
   "cell_type": "code",
   "execution_count": 57,
   "id": "0d8763da-f489-4fb5-a742-78953a5eca88",
   "metadata": {
    "tags": []
   },
   "outputs": [],
   "source": [
    "import csv\n",
    "from datetime import datetime\n",
    "import requests\n",
    "from bs4 import BeautifulSoup\n",
    "\n",
    "\n",
    "def get_url(position, location):\n",
    "    \"\"\"Generate url from position and location\"\"\"\n",
    "    template = 'https://www.indeed.com/jobs?q={}&l={}'  # template url for the search query\n",
    "    position = position.replace(' ', '+')  # replace spaces in position with plus signs for url\n",
    "    location = location.replace(' ', '+')  # replace spaces in location with plus signs for url\n",
    "    url = template.format(position, location)  # insert position and location into url template\n",
    "    return url\n",
    "\n",
    "\n",
    "def get_record(card):\n",
    "    \"\"\"Extract job data from a single record\"\"\"\n",
    "    \n",
    "    job_title = card.h2.a.get('title')  # job title\n",
    "    company = card.find('span', 'company').text.strip()  # company name\n",
    "    job_location = card.find('div', 'recJobLoc').get('data-rc-loc')  # job location\n",
    "    post_date = card.find('span', 'date').text  # posting date\n",
    "    today = datetime.today().strftime('%Y-%m-%d')  # current date in yyyy-mm-dd format\n",
    "    summary = card.find('div', 'summary').text.strip().replace('\\n', ' ')  # job summary\n",
    "    job_url = 'https://www.indeed.com' + card.h2.a.get('href')  # url of job posting\n",
    "\n",
    "    # check if job salary information exists and store it\n",
    "    salary_tag = card.find('span', 'salaryText')\n",
    "    if salary_tag:\n",
    "        salary = salary_tag.text.strip()\n",
    "    else:\n",
    "        salary = ''\n",
    "        \n",
    "    # create a tuple of the job information\n",
    "    record = (job_title, company, job_location, post_date, today, summary, salary, job_url)\n",
    "    return record\n",
    "\n",
    "\n",
    "def main(position, location):\n",
    "    \"\"\"Run the main program routine\"\"\"\n",
    "    records = []  # list to store job information\n",
    "    url = get_url(position, location)  # generate url for job search\n",
    "    \n",
    "    # extract job information from multiple pages of search results\n",
    "    while True:\n",
    "        response = requests.get(url)\n",
    "        soup = BeautifulSoup(response.text, 'html.parser')\n",
    "        cards = soup.find_all('div', 'jobsearch-SerpJobCard')  # find all job posting cards on page\n",
    "        for card in cards:\n",
    "            record = get_record(card)  # extract job information from card\n",
    "            records.append(record)  # add job information to list\n",
    "        try:\n",
    "            url = 'https://www.indeed.com' + soup.find('a', {'aria-label': 'Next'}).get('href')\n",
    "            # get url for next page of search results\n",
    "        except AttributeError:\n",
    "            break\n",
    "        \n",
    "    # save the job information to a CSV file\n",
    "    with open('results.csv', 'w', newline='', encoding='utf-8') as f:\n",
    "        writer = csv.writer(f)\n",
    "        writer.writerow(['JobTitle', 'Company', 'Location', 'PostDate', 'ExtractDate', 'Summary', 'Salary', 'JobUrl'])\n",
    "        # write header row to CSV file\n",
    "        writer.writerows(records)\n",
    "        # write job information to CSV file\n"
   ]
  },
  {
   "cell_type": "code",
   "execution_count": 58,
   "id": "683fa0d0-27f3-4a9e-a34f-f45cd1fc1b27",
   "metadata": {
    "tags": []
   },
   "outputs": [],
   "source": [
    "main('senior developer', 'dallas tx')"
   ]
  },
  {
   "cell_type": "code",
   "execution_count": null,
   "id": "5882a632-b912-4b9f-9385-c05e7c9e99ae",
   "metadata": {},
   "outputs": [],
   "source": []
  }
 ],
 "metadata": {
  "kernelspec": {
   "display_name": "Python 3 (ipykernel)",
   "language": "python",
   "name": "python3"
  },
  "language_info": {
   "codemirror_mode": {
    "name": "ipython",
    "version": 3
   },
   "file_extension": ".py",
   "mimetype": "text/x-python",
   "name": "python",
   "nbconvert_exporter": "python",
   "pygments_lexer": "ipython3",
   "version": "3.11.0"
  }
 },
 "nbformat": 4,
 "nbformat_minor": 5
}
